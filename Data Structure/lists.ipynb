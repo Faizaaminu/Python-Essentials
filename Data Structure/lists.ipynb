{
 "cells": [
  {
   "cell_type": "markdown",
   "id": "21fe5bac",
   "metadata": {},
   "source": [
    "## LIST\n",
    "#### A list in python is a compound data type that allow you to  group multiple values together. it uses square barcket[]\n",
    "<bra> A list can contain a mix of different python types, such as stings, floats, and boolean</bra>"
   ]
  },
  {
   "cell_type": "code",
   "execution_count": 1,
   "id": "85c0232e",
   "metadata": {},
   "outputs": [
    {
     "name": "stdout",
     "output_type": "stream",
     "text": [
      "[11.25, 18.0, 20.0, 10.75, 9.5]\n",
      "['hallway', 11.25, 'kitchen', 18.0, 'living room', 20.0, 'bedroom', 10.75, 'bathroom', 9.5]\n"
     ]
    }
   ],
   "source": [
    "hall=11.25\n",
    "kit=18.0\n",
    "liv=20.0\n",
    "bed=10.75\n",
    "bath=9.50\n",
    "\n",
    "## create alist areas\n",
    "areas=[hall,kit,liv,bed,bath]\n",
    "print(areas)\n",
    "\n",
    "\n",
    "##Adapt list areas\n",
    "areas=[\"hallway\", hall,\"kitchen\",kit,\"living room\",liv,\"bedroom\",bed,\"bathroom\",bath]  ## Adding descriptive strings alongside numerical values makes the list more informative\n",
    "print(areas)"
   ]
  },
  {
   "cell_type": "code",
   "execution_count": 2,
   "id": "5f7d088f",
   "metadata": {},
   "outputs": [
    {
     "name": "stdout",
     "output_type": "stream",
     "text": [
      "[['hallway', 11.25], ['kitchen', 18.0], ['living room', 20.0], ['bedroom', 10.75], ['bathroom', 9.5]]\n"
     ]
    }
   ],
   "source": [
    "hall=11.25\n",
    "kit=18.0\n",
    "liv=20.0\n",
    "bed=10.75\n",
    "bath=9.50\n",
    "\n",
    "\n",
    "##sing list\n",
    "house=[[\"hallway\", hall]\n",
    "       ,[\"kitchen\",kit]\n",
    "       ,[\"living room\",liv],\n",
    "       [\"bedroom\",bed],\n",
    "       [\"bathroom\",bath] ]\n",
    "print(house)"
   ]
  },
  {
   "cell_type": "code",
   "execution_count": 3,
   "id": "ff4b02b9",
   "metadata": {},
   "outputs": [
    {
     "name": "stdout",
     "output_type": "stream",
     "text": [
      "11.25\n",
      "9.5\n",
      "20.0\n"
     ]
    }
   ],
   "source": [
    "## list of areas\n",
    "areas=[\"hallway\", hall,\"kitchen\",kit,\"living room\",liv,\"bedroom\",bed,\"bathroom\",bath]\n",
    "\n",
    "## print out second element from areas\n",
    "print(areas[1])\n",
    "\n",
    "## print out last element from areas\n",
    "print(areas[-1])\n",
    "\n",
    "## print out the area of the livingroom\n",
    "print(areas[5])"
   ]
  },
  {
   "cell_type": "code",
   "execution_count": 4,
   "id": "9359ce01",
   "metadata": {},
   "outputs": [
    {
     "name": "stdout",
     "output_type": "stream",
     "text": [
      "9.5\n"
     ]
    }
   ],
   "source": [
    "##subsetting lists of lists\n",
    "##subsetting a nested lists using a multiple square brackets.\n",
    "house=[[\"hallway\", hall]\n",
    "       ,[\"kitchen\",kit]\n",
    "       ,[\"living room\",liv],\n",
    "       [\"bedroom\",bed],\n",
    "       [\"bathroom\",bath] ]\n",
    "print(house[-1][1])"
   ]
  },
  {
   "cell_type": "markdown",
   "id": "e4700bcc",
   "metadata": {},
   "source": [
    "#### Slicing Lists\n",
    "<bra>slicing allow to select multiple element from a list</bra> "
   ]
  },
  {
   "cell_type": "code",
   "execution_count": 5,
   "id": "8f67067f",
   "metadata": {},
   "outputs": [
    {
     "name": "stdout",
     "output_type": "stream",
     "text": [
      "['hallway', 11.25, 'kitchen', 18.0, 'living room', 20.0]\n",
      "['bedroom', 10.75, 'bathroom', 9.5]\n"
     ]
    }
   ],
   "source": [
    "areas=[\"hallway\", hall,\"kitchen\",kit,\"living room\",liv,\"bedroom\",bed,\"bathroom\",bath]\n",
    "## Use Slicing to create downstairs\n",
    "downstairs=areas[0:6]\n",
    "\n",
    "# Use slicing to create upstairs\n",
    "upstairs=areas[6:]\n",
    "\n",
    "##printout downstairs and upstairs\n",
    "print(downstairs)\n",
    "print(upstairs)"
   ]
  },
  {
   "cell_type": "markdown",
   "id": "ee66e846",
   "metadata": {},
   "source": [
    "### Updating List Element\n",
    "<bra>to replace element in a list,you can subset the list and assign new values to the subset.</bra>"
   ]
  },
  {
   "cell_type": "code",
   "execution_count": 6,
   "id": "7c872339",
   "metadata": {},
   "outputs": [
    {
     "name": "stdout",
     "output_type": "stream",
     "text": [
      "['hallway', 11.25, 'kitchen', 18.0, 'chill zone', 20.0, 'bedroom', 10.75, 'bathroom', 10.5]\n"
     ]
    }
   ],
   "source": [
    "areas=[\"hallway\", hall,\"kitchen\",kit,\"living room\",liv,\"bedroom\",bed,\"bathroom\",bath]\n",
    "\n",
    "## correct the bathroom area\n",
    "areas[-1]=10.50\n",
    "\n",
    "# Change \"Living room\" to \"Chill zone\"\n",
    "areas[4]=\"chill zone\"\n",
    "print(areas)"
   ]
  },
  {
   "cell_type": "markdown",
   "id": "ca8dbe50",
   "metadata": {},
   "source": [
    "##### Extending a List\n",
    "<bra>you can add element to list using + operator, which concatenates list"
   ]
  },
  {
   "cell_type": "code",
   "execution_count": 7,
   "id": "2c28d9ba",
   "metadata": {},
   "outputs": [
    {
     "name": "stdout",
     "output_type": "stream",
     "text": [
      "['hallway', 11.25, 'kitchen', 18.0, 'chill zone', 20.0, 'bedroom', 10.75, 'bathroom', 10.5]\n",
      "['hallway', 11.25, 'kitchen', 18.0, 'chill zone', 20.0, 'bedroom', 10.75, 'bathroom', 10.5, 'poolhouse', 24.5]\n",
      "['hallway', 11.25, 'kitchen', 18.0, 'chill zone', 20.0, 'bedroom', 10.75, 'bathroom', 10.5, 'poolhouse', 24.5, 'garage', 15.45]\n"
     ]
    }
   ],
   "source": [
    "# Create the areaa list(updated version)\n",
    "areas=[\"hallway\",11.25,\"kitchen\",18.0,\"chill zone\", 20.0,\"bedroom\",10.75,\"bathroom\",10.5]\n",
    "\n",
    "#Add poolhouse data to areas, new list is areas_1\n",
    "areas_1=areas +[\"poolhouse\",24.5]\n",
    "\n",
    "#Add garage data to areas_1, new list is areas_2\n",
    "areas_2=areas_1 + [\"garage\" ,15.45]\n",
    "print(areas)\n",
    "print(areas_1)\n",
    "print(areas_2)"
   ]
  },
  {
   "cell_type": "code",
   "execution_count": 8,
   "id": "38b8de64",
   "metadata": {},
   "outputs": [
    {
     "name": "stdout",
     "output_type": "stream",
     "text": [
      "[5.0, 18.0, 20.0, 10.75, 9.5]\n"
     ]
    }
   ],
   "source": [
    "##Copying lists\n",
    "#create list areas\n",
    "areas=[11.25,18.0,20.0,10.75,9.50]\n",
    "\n",
    "#create a true copy of areas\n",
    "areas_copy=areas\n",
    "\n",
    "#Change areas_copy\n",
    "areas_copy[0]=5.0\n",
    "print(areas)"
   ]
  },
  {
   "cell_type": "markdown",
   "id": "70c26656",
   "metadata": {},
   "source": [
    "#### Using a Built-in Functions\n",
    "<br>```type()```to determine the type of a variable and ```len()``` to determine length of a variable</br>"
   ]
  },
  {
   "cell_type": "code",
   "execution_count": 9,
   "id": "ba40becf",
   "metadata": {},
   "outputs": [
    {
     "name": "stdout",
     "output_type": "stream",
     "text": [
      "<class 'list'>\n",
      "4\n",
      "1\n"
     ]
    }
   ],
   "source": [
    "#Create variable var_1 and var_2\n",
    "var_1=[1,2,3,4]\n",
    "var_2=True\n",
    "#print out type of var_1\n",
    "print(type(var_1))\n",
    "\n",
    "#print out length of var_1\n",
    "print(len(var_1))\n",
    "\n",
    "#Convert var_2 to integer: out2\n",
    "out2=int(var_2)\n",
    "print(out2)\n"
   ]
  },
  {
   "cell_type": "markdown",
   "id": "96e4ce03",
   "metadata": {},
   "source": [
    "#### Sorting Lists with Multiple Arguments\n",
    "<br> the ```sorted() ```function allow to sort lists in python. it takes  three arguments: ```iterate```, ```key```, and``` reverse```. </br>"
   ]
  },
  {
   "cell_type": "code",
   "execution_count": 10,
   "id": "6ecac5a3",
   "metadata": {},
   "outputs": [
    {
     "name": "stdout",
     "output_type": "stream",
     "text": [
      "[20.0, 18.0, 11.25, 10.57, 9.5]\n"
     ]
    }
   ],
   "source": [
    "# Create  Lists first and second\n",
    "first=[11.25, 18.0, 20.0]\n",
    "second=[10.57,9.50]\n",
    "\n",
    "#Paste together first and second :full\n",
    "full=first+second\n",
    "\n",
    "#Sort full in descending order:full_sorted\n",
    "full_sorted=sorted(full, reverse=True)\n",
    "print(full_sorted)"
   ]
  },
  {
   "cell_type": "markdown",
   "id": "c298ad20",
   "metadata": {},
   "source": [
    "#### Using Methods on Lists\n",
    "<br>Built-in mMethod that aloow you to manipulate and query them. such as ```  .index()```  method to find the index of an element and the ```.count( )``` method to count occurrence of an element"
   ]
  },
  {
   "cell_type": "code",
   "execution_count": 11,
   "id": "55552f6e",
   "metadata": {},
   "outputs": [
    {
     "name": "stdout",
     "output_type": "stream",
     "text": [
      "2\n",
      "1\n"
     ]
    }
   ],
   "source": [
    "\n",
    "areas=[11.25, 18.0, 20.0,10.57,9.50]\n",
    "\n",
    "#print out the index of the element 20.0\n",
    "print(areas.index(20.0))\n",
    "\n",
    "#print out how often 9.50 appears in areas\n",
    "print(areas.count(9.50))"
   ]
  },
  {
   "cell_type": "markdown",
   "id": "8a315c9a",
   "metadata": {},
   "source": [
    "#### Modifying Lists with Methods\n",
    "<br> ```.append()``` add an element to the end of the list, and ```.reverse()``` reverses the order of the element.</br>"
   ]
  },
  {
   "cell_type": "code",
   "execution_count": 12,
   "id": "f931d641",
   "metadata": {},
   "outputs": [
    {
     "name": "stdout",
     "output_type": "stream",
     "text": [
      "[11.25, 18.0, 20.0, 10.57, 9.5, 24.5, 15.45]\n",
      "[15.45, 24.5, 9.5, 10.57, 20.0, 18.0, 11.25]\n"
     ]
    }
   ],
   "source": [
    "areas=[11.25, 18.0, 20.0,10.57,9.50]\n",
    "\n",
    "# Use append twice to add poolhouse and garage size\n",
    "areas.append(24.5)\n",
    "areas.append(15.45)\n",
    "\n",
    "print(areas)\n",
    "\n",
    "#Reverse the orders of the element in areas\n",
    "areas.reverse()\n",
    "print(areas)\n"
   ]
  },
  {
   "cell_type": "markdown",
   "id": "9349008e",
   "metadata": {},
   "source": [
    "#### String Methods\n",
    "<br> ```.upper()``` convert all characters to uppercase and ```.count()```counts the occurrence of a string.</br>"
   ]
  },
  {
   "cell_type": "code",
   "execution_count": 13,
   "id": "39029ac7",
   "metadata": {},
   "outputs": [
    {
     "name": "stdout",
     "output_type": "stream",
     "text": [
      "poolhouse\n",
      "POOLHOUSE\n",
      "3\n"
     ]
    }
   ],
   "source": [
    "# String to experiment with: place\n",
    "place=\"poolhouse\"\n",
    "\n",
    "#Use upper() on place\n",
    "place_up=place.upper()\n",
    "\n",
    "#print out place and place_up\n",
    "print(place)\n",
    "print(place_up)\n",
    "\n",
    "##Print out the number of o's in place\n",
    "print(place.count('o'))"
   ]
  }
 ],
 "metadata": {
  "kernelspec": {
   "display_name": "Python 3",
   "language": "python",
   "name": "python3"
  },
  "language_info": {
   "codemirror_mode": {
    "name": "ipython",
    "version": 3
   },
   "file_extension": ".py",
   "mimetype": "text/x-python",
   "name": "python",
   "nbconvert_exporter": "python",
   "pygments_lexer": "ipython3",
   "version": "3.13.2"
  }
 },
 "nbformat": 4,
 "nbformat_minor": 5
}
