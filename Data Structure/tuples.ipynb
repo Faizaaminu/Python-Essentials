{
 "cells": [
  {
   "cell_type": "markdown",
   "id": "a2c6ea57",
   "metadata": {},
   "source": [
    "# Tuples"
   ]
  },
  {
   "cell_type": "markdown",
   "id": "050ef8dc",
   "metadata": {},
   "source": [
    "<br> Tuples are an immutable sequence data types that are commonly used to hold short collections of related data<br>"
   ]
  },
  {
   "cell_type": "markdown",
   "id": "819ff0de",
   "metadata": {},
   "source": [
    "<br>create an empty tuple<br>"
   ]
  },
  {
   "cell_type": "code",
   "execution_count": 2,
   "id": "1c5be9df",
   "metadata": {},
   "outputs": [
    {
     "data": {
      "text/plain": [
       "()"
      ]
     },
     "execution_count": 2,
     "metadata": {},
     "output_type": "execute_result"
    }
   ],
   "source": [
    "tpl=tuple()\n",
    "tpl"
   ]
  },
  {
   "cell_type": "code",
   "execution_count": 3,
   "id": "2142f1e9",
   "metadata": {},
   "outputs": [
    {
     "data": {
      "text/plain": [
       "(1, 2, 3)"
      ]
     },
     "execution_count": 3,
     "metadata": {},
     "output_type": "execute_result"
    }
   ],
   "source": [
    "my_tuple=(1,2,3)\n",
    "my_tuple"
   ]
  },
  {
   "cell_type": "code",
   "execution_count": 7,
   "id": "ffc08143",
   "metadata": {},
   "outputs": [
    {
     "name": "stdout",
     "output_type": "stream",
     "text": [
      "3\n",
      "3\n",
      "1\n",
      "6\n"
     ]
    }
   ],
   "source": [
    "print(len(my_tuple))\n",
    "print(max(my_tuple))\n",
    "print(min(my_tuple))\n",
    "print(sum(my_tuple))"
   ]
  },
  {
   "cell_type": "code",
   "execution_count": 8,
   "id": "3f06e824",
   "metadata": {},
   "outputs": [
    {
     "name": "stdout",
     "output_type": "stream",
     "text": [
      "<class 'tuple'>\n"
     ]
    }
   ],
   "source": [
    "print(type(my_tuple))"
   ]
  }
 ],
 "metadata": {
  "kernelspec": {
   "display_name": "Python 3",
   "language": "python",
   "name": "python3"
  },
  "language_info": {
   "codemirror_mode": {
    "name": "ipython",
    "version": 3
   },
   "file_extension": ".py",
   "mimetype": "text/x-python",
   "name": "python",
   "nbconvert_exporter": "python",
   "pygments_lexer": "ipython3",
   "version": "3.13.2"
  }
 },
 "nbformat": 4,
 "nbformat_minor": 5
}
