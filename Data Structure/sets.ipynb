{
 "cells": [
  {
   "cell_type": "markdown",
   "id": "7fbde916",
   "metadata": {},
   "source": [
    "# Sets"
   ]
  },
  {
   "cell_type": "markdown",
   "id": "e31af1a2",
   "metadata": {},
   "source": [
    "<br> Sets are unordered, mutable collections of immutable object that cannot contain duplicates elements<br>\n",
    "<br>Sets are useful for storing and performing operations on data when each values is unique<br>"
   ]
  },
  {
   "cell_type": "code",
   "execution_count": 14,
   "id": "03f2c7f8",
   "metadata": {},
   "outputs": [
    {
     "data": {
      "text/plain": [
       "set()"
      ]
     },
     "execution_count": 14,
     "metadata": {},
     "output_type": "execute_result"
    }
   ],
   "source": [
    "# Create an empty set\n",
    "\n",
    "my_set=set()\n",
    "my_set"
   ]
  },
  {
   "cell_type": "code",
   "execution_count": 1,
   "id": "af3dc827",
   "metadata": {},
   "outputs": [
    {
     "data": {
      "text/plain": [
       "set"
      ]
     },
     "execution_count": 1,
     "metadata": {},
     "output_type": "execute_result"
    }
   ],
   "source": [
    "my_set={1,2,3,4,5,6,7}\n",
    "type(my_set)"
   ]
  },
  {
   "cell_type": "code",
   "execution_count": 2,
   "id": "537eebfb",
   "metadata": {},
   "outputs": [
    {
     "data": {
      "text/plain": [
       "{1, 2, 3, 4, 5, 6, 7}"
      ]
     },
     "execution_count": 2,
     "metadata": {},
     "output_type": "execute_result"
    }
   ],
   "source": [
    "my_set"
   ]
  },
  {
   "cell_type": "markdown",
   "id": "089534bf",
   "metadata": {},
   "source": [
    "- Add and remove items from setusing inbuilt function `add()` and `remove()`vrespectively:"
   ]
  },
  {
   "cell_type": "code",
   "execution_count": 3,
   "id": "f1b172ad",
   "metadata": {},
   "outputs": [
    {
     "data": {
      "text/plain": [
       "{1, 2, 3, 4, 5, 6, 7, 8}"
      ]
     },
     "execution_count": 3,
     "metadata": {},
     "output_type": "execute_result"
    }
   ],
   "source": [
    "my_set.add(8)\n",
    "my_set"
   ]
  },
  {
   "cell_type": "code",
   "execution_count": null,
   "id": "80ed287c",
   "metadata": {},
   "outputs": [],
   "source": [
    "my_.remove(5)\n",
    "my_set"
   ]
  },
  {
   "cell_type": "code",
   "execution_count": 4,
   "id": "7218698b",
   "metadata": {},
   "outputs": [
    {
     "data": {
      "text/plain": [
       "True"
      ]
     },
     "execution_count": 4,
     "metadata": {},
     "output_type": "execute_result"
    }
   ],
   "source": [
    "6 in my_set"
   ]
  },
  {
   "cell_type": "markdown",
   "id": "1756dabf",
   "metadata": {},
   "source": [
    "> the purpose of set is to perform set opersations that compare or combine different sets<br>"
   ]
  },
  {
   "cell_type": "code",
   "execution_count": null,
   "id": "ea24579c",
   "metadata": {},
   "outputs": [
    {
     "data": {
      "text/plain": [
       "{1, 2, 3, 4, 5, 6}"
      ]
     },
     "execution_count": 5,
     "metadata": {},
     "output_type": "execute_result"
    }
   ],
   "source": [
    "set1={1,2,3,4}\n",
    "set2={1,3,5,6}\n",
    "\n",
    "set1.union(set2)  # Get the union of two sets"
   ]
  },
  {
   "cell_type": "code",
   "execution_count": null,
   "id": "9a2bd283",
   "metadata": {},
   "outputs": [
    {
     "data": {
      "text/plain": [
       "{1, 3}"
      ]
     },
     "execution_count": 6,
     "metadata": {},
     "output_type": "execute_result"
    }
   ],
   "source": [
    "set1.intersection(set2)  # Get the intersection of two sets"
   ]
  },
  {
   "cell_type": "code",
   "execution_count": null,
   "id": "630ce63a",
   "metadata": {},
   "outputs": [
    {
     "data": {
      "text/plain": [
       "{2, 4}"
      ]
     },
     "execution_count": 7,
     "metadata": {},
     "output_type": "execute_result"
    }
   ],
   "source": [
    "set1.difference(set2) # Get the difference between two sets"
   ]
  },
  {
   "cell_type": "code",
   "execution_count": null,
   "id": "d79e65fb",
   "metadata": {},
   "outputs": [
    {
     "data": {
      "text/plain": [
       "False"
      ]
     },
     "execution_count": 8,
     "metadata": {},
     "output_type": "execute_result"
    }
   ],
   "source": [
    "set1.issubset(set2)  # Check whether set1is a subset of set2"
   ]
  },
  {
   "cell_type": "code",
   "execution_count": null,
   "id": "d1bf0c5b",
   "metadata": {},
   "outputs": [
    {
     "data": {
      "text/plain": [
       "True"
      ]
     },
     "execution_count": 11,
     "metadata": {},
     "output_type": "execute_result"
    }
   ],
   "source": [
    "{2, 4}.issubset(set1)  # Check whether {2, 4} is a subset of set1"
   ]
  },
  {
   "cell_type": "markdown",
   "id": "39635f51",
   "metadata": {},
   "source": [
    "<br> you can convert a list into a set using the `set()` function.\n",
    "Converting a list to a set drops any duplicate elements in the list<br>"
   ]
  },
  {
   "cell_type": "code",
   "execution_count": 12,
   "id": "7e97d709",
   "metadata": {},
   "outputs": [
    {
     "data": {
      "text/plain": [
       "{1, 2, 3, 4, 5, 6, 7}"
      ]
     },
     "execution_count": 12,
     "metadata": {},
     "output_type": "execute_result"
    }
   ],
   "source": [
    "my_list=[1,2,2,2,3,4,4,4,5,6,7,7]\n",
    "set(my_list)"
   ]
  },
  {
   "cell_type": "code",
   "execution_count": 15,
   "id": "7451edd9",
   "metadata": {},
   "outputs": [
    {
     "data": {
      "text/plain": [
       "{'Avengers', 'Ironman', 'Thor'}"
      ]
     },
     "execution_count": 15,
     "metadata": {},
     "output_type": "execute_result"
    }
   ],
   "source": [
    "set_var={\"Avengers\",\"Ironman\",\"Thor\"}\n",
    "set_var"
   ]
  },
  {
   "cell_type": "code",
   "execution_count": 16,
   "id": "42168957",
   "metadata": {},
   "outputs": [
    {
     "data": {
      "text/plain": [
       "{'Avengers', 'Hulk', 'Ironman', 'Thor'}"
      ]
     },
     "execution_count": 16,
     "metadata": {},
     "output_type": "execute_result"
    }
   ],
   "source": [
    "\n",
    "set_var.add(\"Hulk\")\n",
    "set_var"
   ]
  },
  {
   "cell_type": "code",
   "execution_count": 17,
   "id": "3dedea60",
   "metadata": {},
   "outputs": [
    {
     "data": {
      "text/plain": [
       "set['hulk']"
      ]
     },
     "execution_count": 17,
     "metadata": {},
     "output_type": "execute_result"
    }
   ],
   "source": [
    "set[\"hulk\"]"
   ]
  },
  {
   "cell_type": "code",
   "execution_count": null,
   "id": "5c7b4305",
   "metadata": {},
   "outputs": [],
   "source": []
  }
 ],
 "metadata": {
  "kernelspec": {
   "display_name": "Python 3",
   "language": "python",
   "name": "python3"
  },
  "language_info": {
   "codemirror_mode": {
    "name": "ipython",
    "version": 3
   },
   "file_extension": ".py",
   "mimetype": "text/x-python",
   "name": "python",
   "nbconvert_exporter": "python",
   "pygments_lexer": "ipython3",
   "version": "3.13.2"
  }
 },
 "nbformat": 4,
 "nbformat_minor": 5
}
