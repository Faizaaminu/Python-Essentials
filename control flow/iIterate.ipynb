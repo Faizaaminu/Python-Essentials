{
 "cells": [
  {
   "cell_type": "markdown",
   "id": "07d08d50",
   "metadata": {},
   "source": [
    "## Pandas Iterate Over Rows\n",
    "### Handle Row -by-Row Operations"
   ]
  },
  {
   "cell_type": "markdown",
   "id": "a61a797e",
   "metadata": {},
   "source": [
    "There are various methods you can apply to a pandas Dataframe to perform row iterations\n",
    "- `.iterrows()`: Use this for simple row-wise opertions, where index and row data are needed . it returns index-series pairs, which can be slow for large dataframe and is not suitable for hearvy computations.\n",
    "  >`iterrow()`this return each row as tuple of(index,series)</br>\n",
    "- `itertuples()`: Use this as afaster alternative to `.iterrow()` , especially when you don't need a pandas series. It return a namedtuple of row values and is more memory-efficient than `.iterrow()`.\n",
    "    > `itertuples()`yeild each row as a namedtuple.</br>\n",
    "- `.apply(axis-=1)`: this applies a function to each row, and is usually used with the axis=1 argument. It is slower than vectorized methods, butr often faster than explicit loops."
   ]
  },
  {
   "cell_type": "markdown",
   "id": "3de66e50",
   "metadata": {},
   "source": [
    "### Using `iterrows()`"
   ]
  },
  {
   "cell_type": "code",
   "execution_count": 6,
   "id": "fb4c4743",
   "metadata": {},
   "outputs": [
    {
     "name": "stdout",
     "output_type": "stream",
     "text": [
      "Index: 0, Name:Mary, Age:2\n",
      "Index: 1, Name:Joseph, Age:30\n"
     ]
    }
   ],
   "source": [
    "import pandas as pd\n",
    "\n",
    "students={\"Name\":[\"Mary\",\"Joseph\"], \"Age\":[2,30]}\n",
    "students=pd.DataFrame(students)\n",
    "\n",
    "for index, row in students.iterrows():\n",
    "    print(f\"Index: {index}, Name:{row['Name']}, Age:{row['Age']}\")\n"
   ]
  },
  {
   "cell_type": "markdown",
   "id": "f09c9769",
   "metadata": {},
   "source": [
    "The `.iterrows` method returns a generator that yield the index of a row, along with a Series object representing thew rows.\n",
    "the keys of the series are ther column names , and the values are the corresponding data ineach row."
   ]
  },
  {
   "cell_type": "markdown",
   "id": "ecffe00b",
   "metadata": {},
   "source": [
    "### Using `.itertuples()`"
   ]
  },
  {
   "cell_type": "markdown",
   "id": "ce1d9cb1",
   "metadata": {},
   "source": [
    "`.itertuples()` is faster and more efficient tham `.iterrows()` ,and it returns each row as a namedtuples, allowing access to column values using dot notation."
   ]
  },
  {
   "cell_type": "code",
   "execution_count": 2,
   "id": "08e39537",
   "metadata": {},
   "outputs": [
    {
     "name": "stdout",
     "output_type": "stream",
     "text": [
      "Index: <built-in method index of Pandas object at 0x0000022EFFCBE750>, Name:Mary, Age:2\n",
      "Index: <built-in method index of Pandas object at 0x0000022EFFCBE890>, Name:Joseph, Age:30\n"
     ]
    }
   ],
   "source": [
    "import pandas as pd\n",
    "\n",
    "students={\"Name\":[\"Mary\",\"Joseph\"], \"Age\":[2,30]}\n",
    "students=pd.DataFrame(students)\n",
    "\n",
    "for  row in students.itertuples():\n",
    "    print(f\"Index: {row.index}, Name:{row.Name}, Age:{row.Age}\")\n"
   ]
  },
  {
   "cell_type": "markdown",
   "id": "64cd5d3d",
   "metadata": {},
   "source": [
    "``` python\n",
    "pandas(Index=0, Name='Mary', Age=2)\n",
    "pandas(Index=1, Name='Joseph', Age=30)\n",
    "```"
   ]
  },
  {
   "cell_type": "markdown",
   "id": "eaafbe0f",
   "metadata": {},
   "source": [
    "#### Using `.apply()` for row-wise operations "
   ]
  },
  {
   "cell_type": "markdown",
   "id": "d63260d5",
   "metadata": {},
   "source": [
    "``` python\n",
    "df.apply(func=axis)\n",
    "```\n",
    "where the function to apply on the row is func, while the argument is axis=1 is set"
   ]
  },
  {
   "cell_type": "code",
   "execution_count": 3,
   "id": "8bff569a",
   "metadata": {},
   "outputs": [
    {
     "data": {
      "text/html": [
       "<div>\n",
       "<style scoped>\n",
       "    .dataframe tbody tr th:only-of-type {\n",
       "        vertical-align: middle;\n",
       "    }\n",
       "\n",
       "    .dataframe tbody tr th {\n",
       "        vertical-align: top;\n",
       "    }\n",
       "\n",
       "    .dataframe thead th {\n",
       "        text-align: right;\n",
       "    }\n",
       "</style>\n",
       "<table border=\"1\" class=\"dataframe\">\n",
       "  <thead>\n",
       "    <tr style=\"text-align: right;\">\n",
       "      <th></th>\n",
       "      <th>Name</th>\n",
       "      <th>Math</th>\n",
       "      <th>Science</th>\n",
       "      <th>Average</th>\n",
       "    </tr>\n",
       "  </thead>\n",
       "  <tbody>\n",
       "    <tr>\n",
       "      <th>0</th>\n",
       "      <td>Mary</td>\n",
       "      <td>85</td>\n",
       "      <td>95</td>\n",
       "      <td>90.0</td>\n",
       "    </tr>\n",
       "    <tr>\n",
       "      <th>1</th>\n",
       "      <td>Joseph</td>\n",
       "      <td>90</td>\n",
       "      <td>88</td>\n",
       "      <td>89.0</td>\n",
       "    </tr>\n",
       "  </tbody>\n",
       "</table>\n",
       "</div>"
      ],
      "text/plain": [
       "     Name  Math  Science  Average\n",
       "0    Mary    85       95     90.0\n",
       "1  Joseph    90       88     89.0"
      ]
     },
     "execution_count": 3,
     "metadata": {},
     "output_type": "execute_result"
    }
   ],
   "source": [
    "\n",
    "\n",
    "students={\"Name\":[\"Mary\",\"Joseph\"], \"Math\":[85,90], \"Science\":[95,88]}\n",
    "students=pd.DataFrame(students)\n",
    "\n",
    "\n",
    "students[\"Average\"]=students.apply(lambda row: (row[\"Math\"] + row[\"Science\"]) / 2, axis=1)\n",
    "\n",
    "students.head()\n"
   ]
  },
  {
   "cell_type": "markdown",
   "id": "6b2b211d",
   "metadata": {},
   "source": [
    ">NB Use `.apply()` method when creating new columns based on existing ones, or when applyin custom calculations or transformations.</br>"
   ]
  },
  {
   "cell_type": "markdown",
   "id": "26eb8704",
   "metadata": {},
   "source": [
    "### Using DataFrame .index with loc/iloc for manual iteration"
   ]
  },
  {
   "cell_type": "code",
   "execution_count": 4,
   "id": "d2b0b38b",
   "metadata": {},
   "outputs": [
    {
     "name": "stdout",
     "output_type": "stream",
     "text": [
      "Name:Mary, Age:2\n",
      "Name:Joseph, Age:30\n",
      "Name:Mary, Age:2\n",
      "Name:Joseph, Age:30\n"
     ]
    }
   ],
   "source": [
    "\n",
    "\n",
    "students={\"Name\":[\"Mary\",\"Joseph\"], \"Age\":[2,30]}\n",
    "students=pd.DataFrame(students)\n",
    "\n",
    "# Using iloc\n",
    "for i in range(len(students)):\n",
    "    print(f\"Name:{students.iloc[i]['Name']}, Age:{students.iloc[i]['Age']}\")\n",
    "\n",
    "# Using loc\n",
    "for idx in students.index:\n",
    "    print(f\"Name:{students.loc[idx,'Name']}, Age:{students.loc[idx,'Age']}\")\n"
   ]
  }
 ],
 "metadata": {
  "kernelspec": {
   "display_name": "Python 3",
   "language": "python",
   "name": "python3"
  },
  "language_info": {
   "codemirror_mode": {
    "name": "ipython",
    "version": 3
   },
   "file_extension": ".py",
   "mimetype": "text/x-python",
   "name": "python",
   "nbconvert_exporter": "python",
   "pygments_lexer": "ipython3",
   "version": "3.13.2"
  }
 },
 "nbformat": 4,
 "nbformat_minor": 5
}
